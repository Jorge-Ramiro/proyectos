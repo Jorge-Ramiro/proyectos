{
 "cells": [
  {
   "cell_type": "code",
   "execution_count": 1,
   "metadata": {},
   "outputs": [],
   "source": [
    "import pandas as pd\n",
    "from graficos import *\n",
    "import numpy as np\n"
   ]
  },
  {
   "cell_type": "code",
   "execution_count": 2,
   "metadata": {},
   "outputs": [
    {
     "data": {
      "text/html": [
       "<div>\n",
       "<style scoped>\n",
       "    .dataframe tbody tr th:only-of-type {\n",
       "        vertical-align: middle;\n",
       "    }\n",
       "\n",
       "    .dataframe tbody tr th {\n",
       "        vertical-align: top;\n",
       "    }\n",
       "\n",
       "    .dataframe thead th {\n",
       "        text-align: right;\n",
       "    }\n",
       "</style>\n",
       "<table border=\"1\" class=\"dataframe\">\n",
       "  <thead>\n",
       "    <tr style=\"text-align: right;\">\n",
       "      <th></th>\n",
       "      <th>Job Title</th>\n",
       "      <th>Company Name</th>\n",
       "      <th>Location</th>\n",
       "      <th>Salary Estimate</th>\n",
       "      <th>Rating</th>\n",
       "      <th>Job Description</th>\n",
       "      <th>size</th>\n",
       "      <th>founded</th>\n",
       "      <th>type</th>\n",
       "      <th>industry</th>\n",
       "      <th>...</th>\n",
       "      <th>java</th>\n",
       "      <th>javascript</th>\n",
       "      <th>sql</th>\n",
       "      <th>excel</th>\n",
       "      <th>spark</th>\n",
       "      <th>aws</th>\n",
       "      <th>azure</th>\n",
       "      <th>job_simp</th>\n",
       "      <th>seniority</th>\n",
       "      <th>desc len</th>\n",
       "    </tr>\n",
       "  </thead>\n",
       "  <tbody>\n",
       "    <tr>\n",
       "      <th>0</th>\n",
       "      <td>Data Scientist, Data Science &amp; Modeling</td>\n",
       "      <td>CardWorks</td>\n",
       "      <td>South Jordan, UT</td>\n",
       "      <td>$134,452 /yr (est.)</td>\n",
       "      <td>3.1</td>\n",
       "      <td>Merrick Bank employees share in our mission to...</td>\n",
       "      <td>501 to 1000 Employees</td>\n",
       "      <td>1987</td>\n",
       "      <td>Company - Private</td>\n",
       "      <td>Banking &amp; Lending</td>\n",
       "      <td>...</td>\n",
       "      <td>0</td>\n",
       "      <td>0</td>\n",
       "      <td>0</td>\n",
       "      <td>0</td>\n",
       "      <td>0</td>\n",
       "      <td>0</td>\n",
       "      <td>0</td>\n",
       "      <td>data scientist</td>\n",
       "      <td>mid</td>\n",
       "      <td>936</td>\n",
       "    </tr>\n",
       "    <tr>\n",
       "      <th>1</th>\n",
       "      <td>Student Employee - Data Science</td>\n",
       "      <td>Electric Power Research Institute</td>\n",
       "      <td>Charlotte, NC</td>\n",
       "      <td>$82,980 /yr (est.)</td>\n",
       "      <td>5.0</td>\n",
       "      <td>Job Title:\\nStudent Employee - Data Science\\nL...</td>\n",
       "      <td>Unknown</td>\n",
       "      <td>Company - Private</td>\n",
       "      <td>Unknown / Non-Applicable</td>\n",
       "      <td>NaN</td>\n",
       "      <td>...</td>\n",
       "      <td>0</td>\n",
       "      <td>0</td>\n",
       "      <td>0</td>\n",
       "      <td>0</td>\n",
       "      <td>0</td>\n",
       "      <td>0</td>\n",
       "      <td>0</td>\n",
       "      <td>data science</td>\n",
       "      <td>mid</td>\n",
       "      <td>639</td>\n",
       "    </tr>\n",
       "    <tr>\n",
       "      <th>2</th>\n",
       "      <td>Data Science Engineer</td>\n",
       "      <td>Dataquestcorp</td>\n",
       "      <td>Branchburg, NJ</td>\n",
       "      <td>$75,000 /yr (est.)</td>\n",
       "      <td>NaN</td>\n",
       "      <td>We are providing free training and placement o...</td>\n",
       "      <td>NaN</td>\n",
       "      <td>NaN</td>\n",
       "      <td>NaN</td>\n",
       "      <td>NaN</td>\n",
       "      <td>...</td>\n",
       "      <td>0</td>\n",
       "      <td>0</td>\n",
       "      <td>0</td>\n",
       "      <td>0</td>\n",
       "      <td>0</td>\n",
       "      <td>0</td>\n",
       "      <td>0</td>\n",
       "      <td>data engineer</td>\n",
       "      <td>mid</td>\n",
       "      <td>282</td>\n",
       "    </tr>\n",
       "    <tr>\n",
       "      <th>3</th>\n",
       "      <td>Junior Data Scientist</td>\n",
       "      <td>Augray</td>\n",
       "      <td>Brookfield, WI</td>\n",
       "      <td>$57,500 /yr (est.)</td>\n",
       "      <td>4.3</td>\n",
       "      <td>Brookfield, WI, USA\\nSummary:\\nHiring Fresher ...</td>\n",
       "      <td>51 to 200 Employees</td>\n",
       "      <td>2014</td>\n",
       "      <td>Subsidiary or Business Segment</td>\n",
       "      <td>Information Technology Support Services</td>\n",
       "      <td>...</td>\n",
       "      <td>0</td>\n",
       "      <td>0</td>\n",
       "      <td>0</td>\n",
       "      <td>0</td>\n",
       "      <td>0</td>\n",
       "      <td>0</td>\n",
       "      <td>0</td>\n",
       "      <td>data scientist</td>\n",
       "      <td>jr</td>\n",
       "      <td>643</td>\n",
       "    </tr>\n",
       "    <tr>\n",
       "      <th>4</th>\n",
       "      <td>Data science instructor</td>\n",
       "      <td>MIM</td>\n",
       "      <td>Remote</td>\n",
       "      <td>$131,513 /yr (est.)</td>\n",
       "      <td>NaN</td>\n",
       "      <td>ABOUT MIM\\nMIM is a New York based institution...</td>\n",
       "      <td>NaN</td>\n",
       "      <td>NaN</td>\n",
       "      <td>NaN</td>\n",
       "      <td>NaN</td>\n",
       "      <td>...</td>\n",
       "      <td>0</td>\n",
       "      <td>0</td>\n",
       "      <td>0</td>\n",
       "      <td>0</td>\n",
       "      <td>0</td>\n",
       "      <td>0</td>\n",
       "      <td>0</td>\n",
       "      <td>data science</td>\n",
       "      <td>mid</td>\n",
       "      <td>570</td>\n",
       "    </tr>\n",
       "    <tr>\n",
       "      <th>5</th>\n",
       "      <td>Data Science Assistant</td>\n",
       "      <td>United Nations</td>\n",
       "      <td>New York, NY</td>\n",
       "      <td>$88,585 /yr (est.)</td>\n",
       "      <td>4.0</td>\n",
       "      <td>This position is located in the Analytics Sect...</td>\n",
       "      <td>10000+ Employees</td>\n",
       "      <td>1945</td>\n",
       "      <td>Government</td>\n",
       "      <td>National Agencies</td>\n",
       "      <td>...</td>\n",
       "      <td>0</td>\n",
       "      <td>0</td>\n",
       "      <td>0</td>\n",
       "      <td>0</td>\n",
       "      <td>0</td>\n",
       "      <td>0</td>\n",
       "      <td>0</td>\n",
       "      <td>data science</td>\n",
       "      <td>mid</td>\n",
       "      <td>855</td>\n",
       "    </tr>\n",
       "    <tr>\n",
       "      <th>6</th>\n",
       "      <td>BHJOB15656_16794 - Data Scientist</td>\n",
       "      <td>Myticas Consulting</td>\n",
       "      <td>Remote</td>\n",
       "      <td>$88,585 /yr (est.)</td>\n",
       "      <td>3.7</td>\n",
       "      <td>The recruitment team here at Myticas is lookin...</td>\n",
       "      <td>1 to 50 Employees</td>\n",
       "      <td>Company - Private</td>\n",
       "      <td>Information Technology Support Services</td>\n",
       "      <td>Information Technology</td>\n",
       "      <td>...</td>\n",
       "      <td>0</td>\n",
       "      <td>0</td>\n",
       "      <td>0</td>\n",
       "      <td>0</td>\n",
       "      <td>0</td>\n",
       "      <td>0</td>\n",
       "      <td>0</td>\n",
       "      <td>data scientist</td>\n",
       "      <td>mid</td>\n",
       "      <td>766</td>\n",
       "    </tr>\n",
       "    <tr>\n",
       "      <th>7</th>\n",
       "      <td>Data Engineer</td>\n",
       "      <td>eTeam Inc.</td>\n",
       "      <td>Thomasville, GA</td>\n",
       "      <td>$91,760 /yr (est.)</td>\n",
       "      <td>4.4</td>\n",
       "      <td>Senior level with 6 9 years experience data en...</td>\n",
       "      <td>5001 to 10000 Employees</td>\n",
       "      <td>1999</td>\n",
       "      <td>Company - Private</td>\n",
       "      <td>Staffing &amp; Subcontracting</td>\n",
       "      <td>...</td>\n",
       "      <td>0</td>\n",
       "      <td>0</td>\n",
       "      <td>1</td>\n",
       "      <td>0</td>\n",
       "      <td>0</td>\n",
       "      <td>0</td>\n",
       "      <td>0</td>\n",
       "      <td>data engineer</td>\n",
       "      <td>mid</td>\n",
       "      <td>283</td>\n",
       "    </tr>\n",
       "    <tr>\n",
       "      <th>8</th>\n",
       "      <td>Data Scientist (Junior)</td>\n",
       "      <td>BDSA</td>\n",
       "      <td>Louisville, CO</td>\n",
       "      <td>$100,000 /yr (est.)</td>\n",
       "      <td>1.5</td>\n",
       "      <td>Job Summary: The Analytics team empowers BDSA ...</td>\n",
       "      <td>Unknown</td>\n",
       "      <td>Company - Private</td>\n",
       "      <td>Advertising &amp; Public Relations</td>\n",
       "      <td>Media &amp; Communication</td>\n",
       "      <td>...</td>\n",
       "      <td>0</td>\n",
       "      <td>0</td>\n",
       "      <td>0</td>\n",
       "      <td>0</td>\n",
       "      <td>0</td>\n",
       "      <td>0</td>\n",
       "      <td>0</td>\n",
       "      <td>data scientist</td>\n",
       "      <td>mid</td>\n",
       "      <td>856</td>\n",
       "    </tr>\n",
       "    <tr>\n",
       "      <th>9</th>\n",
       "      <td>Jr. Data Scientist</td>\n",
       "      <td>Net2Aspire</td>\n",
       "      <td>Remote</td>\n",
       "      <td>$72,500 /yr (est.)</td>\n",
       "      <td>NaN</td>\n",
       "      <td> Apply Statistical and Machine Learning metho...</td>\n",
       "      <td>NaN</td>\n",
       "      <td>NaN</td>\n",
       "      <td>NaN</td>\n",
       "      <td>NaN</td>\n",
       "      <td>...</td>\n",
       "      <td>0</td>\n",
       "      <td>0</td>\n",
       "      <td>0</td>\n",
       "      <td>0</td>\n",
       "      <td>0</td>\n",
       "      <td>0</td>\n",
       "      <td>0</td>\n",
       "      <td>data scientist</td>\n",
       "      <td>jr</td>\n",
       "      <td>730</td>\n",
       "    </tr>\n",
       "  </tbody>\n",
       "</table>\n",
       "<p>10 rows × 26 columns</p>\n",
       "</div>"
      ],
      "text/plain": [
       "                                 Job Title                       Company Name  \\\n",
       "0  Data Scientist, Data Science & Modeling                          CardWorks   \n",
       "1          Student Employee - Data Science  Electric Power Research Institute   \n",
       "2                    Data Science Engineer                      Dataquestcorp   \n",
       "3                    Junior Data Scientist                             Augray   \n",
       "4                  Data science instructor                                MIM   \n",
       "5                   Data Science Assistant                     United Nations   \n",
       "6        BHJOB15656_16794 - Data Scientist                 Myticas Consulting   \n",
       "7                            Data Engineer                         eTeam Inc.   \n",
       "8                  Data Scientist (Junior)                               BDSA   \n",
       "9                       Jr. Data Scientist                         Net2Aspire   \n",
       "\n",
       "           Location      Salary Estimate  Rating  \\\n",
       "0  South Jordan, UT  $134,452 /yr (est.)     3.1   \n",
       "1     Charlotte, NC   $82,980 /yr (est.)     5.0   \n",
       "2    Branchburg, NJ   $75,000 /yr (est.)     NaN   \n",
       "3    Brookfield, WI   $57,500 /yr (est.)     4.3   \n",
       "4            Remote  $131,513 /yr (est.)     NaN   \n",
       "5      New York, NY   $88,585 /yr (est.)     4.0   \n",
       "6            Remote   $88,585 /yr (est.)     3.7   \n",
       "7   Thomasville, GA   $91,760 /yr (est.)     4.4   \n",
       "8    Louisville, CO  $100,000 /yr (est.)     1.5   \n",
       "9            Remote   $72,500 /yr (est.)     NaN   \n",
       "\n",
       "                                     Job Description                     size  \\\n",
       "0  Merrick Bank employees share in our mission to...    501 to 1000 Employees   \n",
       "1  Job Title:\\nStudent Employee - Data Science\\nL...                  Unknown   \n",
       "2  We are providing free training and placement o...                      NaN   \n",
       "3  Brookfield, WI, USA\\nSummary:\\nHiring Fresher ...      51 to 200 Employees   \n",
       "4  ABOUT MIM\\nMIM is a New York based institution...                      NaN   \n",
       "5  This position is located in the Analytics Sect...         10000+ Employees   \n",
       "6  The recruitment team here at Myticas is lookin...        1 to 50 Employees   \n",
       "7  Senior level with 6 9 years experience data en...  5001 to 10000 Employees   \n",
       "8  Job Summary: The Analytics team empowers BDSA ...                  Unknown   \n",
       "9   Apply Statistical and Machine Learning metho...                      NaN   \n",
       "\n",
       "             founded                                     type  \\\n",
       "0               1987                        Company - Private   \n",
       "1  Company - Private                 Unknown / Non-Applicable   \n",
       "2                NaN                                      NaN   \n",
       "3               2014           Subsidiary or Business Segment   \n",
       "4                NaN                                      NaN   \n",
       "5               1945                               Government   \n",
       "6  Company - Private  Information Technology Support Services   \n",
       "7               1999                        Company - Private   \n",
       "8  Company - Private           Advertising & Public Relations   \n",
       "9                NaN                                      NaN   \n",
       "\n",
       "                                  industry  ... java javascript  sql  excel  \\\n",
       "0                        Banking & Lending  ...    0          0    0      0   \n",
       "1                                      NaN  ...    0          0    0      0   \n",
       "2                                      NaN  ...    0          0    0      0   \n",
       "3  Information Technology Support Services  ...    0          0    0      0   \n",
       "4                                      NaN  ...    0          0    0      0   \n",
       "5                        National Agencies  ...    0          0    0      0   \n",
       "6                   Information Technology  ...    0          0    0      0   \n",
       "7                Staffing & Subcontracting  ...    0          0    1      0   \n",
       "8                    Media & Communication  ...    0          0    0      0   \n",
       "9                                      NaN  ...    0          0    0      0   \n",
       "\n",
       "  spark  aws  azure        job_simp  seniority  desc len  \n",
       "0     0    0      0  data scientist        mid       936  \n",
       "1     0    0      0    data science        mid       639  \n",
       "2     0    0      0   data engineer        mid       282  \n",
       "3     0    0      0  data scientist         jr       643  \n",
       "4     0    0      0    data science        mid       570  \n",
       "5     0    0      0    data science        mid       855  \n",
       "6     0    0      0  data scientist        mid       766  \n",
       "7     0    0      0   data engineer        mid       283  \n",
       "8     0    0      0  data scientist        mid       856  \n",
       "9     0    0      0  data scientist         jr       730  \n",
       "\n",
       "[10 rows x 26 columns]"
      ]
     },
     "execution_count": 2,
     "metadata": {},
     "output_type": "execute_result"
    }
   ],
   "source": [
    "df = pd.read_csv(\"C:/Users/shado/Desktop/Programación(python,mySQL)/python-notebooks/datos/salary_data_cleaned.csv\")\n",
    "df.head(10)"
   ]
  },
  {
   "cell_type": "code",
   "execution_count": 3,
   "metadata": {},
   "outputs": [
    {
     "data": {
      "text/plain": [
       "data engineer     198\n",
       "data scientist    157\n",
       "data science       49\n",
       "data analyst       21\n",
       "data analytics     10\n",
       "manager             7\n",
       "mle                 4\n",
       "analyst             2\n",
       "na                  1\n",
       "Name: job_simp, dtype: int64"
      ]
     },
     "execution_count": 3,
     "metadata": {},
     "output_type": "execute_result"
    }
   ],
   "source": [
    "# vemos la columa de job simp que contiene todos los puestos de trabajo que hay en el dataset y contamos la cantidad de vacantes para cada uno\n",
    "df['job_simp'].value_counts()"
   ]
  },
  {
   "cell_type": "code",
   "execution_count": 4,
   "metadata": {},
   "outputs": [
    {
     "data": {
      "text/plain": [
       "mid    415\n",
       "jr      31\n",
       "sr       3\n",
       "Name: seniority, dtype: int64"
      ]
     },
     "execution_count": 4,
     "metadata": {},
     "output_type": "execute_result"
    }
   ],
   "source": [
    "# miramos cuantos valores hay por cada nivel requerido para las vacantes publicadas \n",
    "df.seniority.value_counts()"
   ]
  },
  {
   "cell_type": "code",
   "execution_count": 5,
   "metadata": {},
   "outputs": [
    {
     "data": {
      "text/plain": [
       "804     130\n",
       "919       9\n",
       "283       9\n",
       "856       9\n",
       "523       9\n",
       "       ... \n",
       "654       1\n",
       "611       1\n",
       "1212      1\n",
       "495       1\n",
       "882       1\n",
       "Name: desc len, Length: 134, dtype: int64"
      ]
     },
     "execution_count": 5,
     "metadata": {},
     "output_type": "execute_result"
    }
   ],
   "source": [
    "# le echamos un vistaso a la columa que nos muestra el largo de las descripciones y contamos cuantos valores hay de cada uno.\n",
    "df['desc len'].value_counts()"
   ]
  },
  {
   "cell_type": "code",
   "execution_count": 6,
   "metadata": {},
   "outputs": [
    {
     "data": {
      "text/html": [
       "<div>\n",
       "<style scoped>\n",
       "    .dataframe tbody tr th:only-of-type {\n",
       "        vertical-align: middle;\n",
       "    }\n",
       "\n",
       "    .dataframe tbody tr th {\n",
       "        vertical-align: top;\n",
       "    }\n",
       "\n",
       "    .dataframe thead th {\n",
       "        text-align: right;\n",
       "    }\n",
       "</style>\n",
       "<table border=\"1\" class=\"dataframe\">\n",
       "  <thead>\n",
       "    <tr style=\"text-align: right;\">\n",
       "      <th></th>\n",
       "      <th>Rating</th>\n",
       "      <th>yearly</th>\n",
       "      <th>salary</th>\n",
       "      <th>python</th>\n",
       "      <th>java</th>\n",
       "      <th>javascript</th>\n",
       "      <th>sql</th>\n",
       "      <th>excel</th>\n",
       "      <th>spark</th>\n",
       "      <th>aws</th>\n",
       "      <th>azure</th>\n",
       "      <th>desc len</th>\n",
       "    </tr>\n",
       "  </thead>\n",
       "  <tbody>\n",
       "    <tr>\n",
       "      <th>count</th>\n",
       "      <td>377.000000</td>\n",
       "      <td>449.0</td>\n",
       "      <td>449.000000</td>\n",
       "      <td>449.000000</td>\n",
       "      <td>449.0</td>\n",
       "      <td>449.0</td>\n",
       "      <td>449.000000</td>\n",
       "      <td>449.000000</td>\n",
       "      <td>449.000000</td>\n",
       "      <td>449.000000</td>\n",
       "      <td>449.000000</td>\n",
       "      <td>449.000000</td>\n",
       "    </tr>\n",
       "    <tr>\n",
       "      <th>mean</th>\n",
       "      <td>3.965782</td>\n",
       "      <td>2.0</td>\n",
       "      <td>104640.505568</td>\n",
       "      <td>0.120267</td>\n",
       "      <td>0.0</td>\n",
       "      <td>0.0</td>\n",
       "      <td>0.075724</td>\n",
       "      <td>0.042316</td>\n",
       "      <td>0.028953</td>\n",
       "      <td>0.015590</td>\n",
       "      <td>0.006682</td>\n",
       "      <td>902.002227</td>\n",
       "    </tr>\n",
       "    <tr>\n",
       "      <th>std</th>\n",
       "      <td>0.577662</td>\n",
       "      <td>0.0</td>\n",
       "      <td>35678.082938</td>\n",
       "      <td>0.325637</td>\n",
       "      <td>0.0</td>\n",
       "      <td>0.0</td>\n",
       "      <td>0.264851</td>\n",
       "      <td>0.201534</td>\n",
       "      <td>0.167862</td>\n",
       "      <td>0.124022</td>\n",
       "      <td>0.081558</td>\n",
       "      <td>662.747769</td>\n",
       "    </tr>\n",
       "    <tr>\n",
       "      <th>min</th>\n",
       "      <td>1.000000</td>\n",
       "      <td>2.0</td>\n",
       "      <td>46789.000000</td>\n",
       "      <td>0.000000</td>\n",
       "      <td>0.0</td>\n",
       "      <td>0.0</td>\n",
       "      <td>0.000000</td>\n",
       "      <td>0.000000</td>\n",
       "      <td>0.000000</td>\n",
       "      <td>0.000000</td>\n",
       "      <td>0.000000</td>\n",
       "      <td>118.000000</td>\n",
       "    </tr>\n",
       "    <tr>\n",
       "      <th>25%</th>\n",
       "      <td>3.900000</td>\n",
       "      <td>2.0</td>\n",
       "      <td>90375.000000</td>\n",
       "      <td>0.000000</td>\n",
       "      <td>0.0</td>\n",
       "      <td>0.0</td>\n",
       "      <td>0.000000</td>\n",
       "      <td>0.000000</td>\n",
       "      <td>0.000000</td>\n",
       "      <td>0.000000</td>\n",
       "      <td>0.000000</td>\n",
       "      <td>643.000000</td>\n",
       "    </tr>\n",
       "    <tr>\n",
       "      <th>50%</th>\n",
       "      <td>4.000000</td>\n",
       "      <td>2.0</td>\n",
       "      <td>90375.000000</td>\n",
       "      <td>0.000000</td>\n",
       "      <td>0.0</td>\n",
       "      <td>0.0</td>\n",
       "      <td>0.000000</td>\n",
       "      <td>0.000000</td>\n",
       "      <td>0.000000</td>\n",
       "      <td>0.000000</td>\n",
       "      <td>0.000000</td>\n",
       "      <td>804.000000</td>\n",
       "    </tr>\n",
       "    <tr>\n",
       "      <th>75%</th>\n",
       "      <td>4.200000</td>\n",
       "      <td>2.0</td>\n",
       "      <td>113281.000000</td>\n",
       "      <td>0.000000</td>\n",
       "      <td>0.0</td>\n",
       "      <td>0.0</td>\n",
       "      <td>0.000000</td>\n",
       "      <td>0.000000</td>\n",
       "      <td>0.000000</td>\n",
       "      <td>0.000000</td>\n",
       "      <td>0.000000</td>\n",
       "      <td>882.000000</td>\n",
       "    </tr>\n",
       "    <tr>\n",
       "      <th>max</th>\n",
       "      <td>5.000000</td>\n",
       "      <td>2.0</td>\n",
       "      <td>275000.000000</td>\n",
       "      <td>1.000000</td>\n",
       "      <td>0.0</td>\n",
       "      <td>0.0</td>\n",
       "      <td>1.000000</td>\n",
       "      <td>1.000000</td>\n",
       "      <td>1.000000</td>\n",
       "      <td>1.000000</td>\n",
       "      <td>1.000000</td>\n",
       "      <td>7444.000000</td>\n",
       "    </tr>\n",
       "  </tbody>\n",
       "</table>\n",
       "</div>"
      ],
      "text/plain": [
       "           Rating  yearly         salary      python   java  javascript  \\\n",
       "count  377.000000   449.0     449.000000  449.000000  449.0       449.0   \n",
       "mean     3.965782     2.0  104640.505568    0.120267    0.0         0.0   \n",
       "std      0.577662     0.0   35678.082938    0.325637    0.0         0.0   \n",
       "min      1.000000     2.0   46789.000000    0.000000    0.0         0.0   \n",
       "25%      3.900000     2.0   90375.000000    0.000000    0.0         0.0   \n",
       "50%      4.000000     2.0   90375.000000    0.000000    0.0         0.0   \n",
       "75%      4.200000     2.0  113281.000000    0.000000    0.0         0.0   \n",
       "max      5.000000     2.0  275000.000000    1.000000    0.0         0.0   \n",
       "\n",
       "              sql       excel       spark         aws       azure     desc len  \n",
       "count  449.000000  449.000000  449.000000  449.000000  449.000000   449.000000  \n",
       "mean     0.075724    0.042316    0.028953    0.015590    0.006682   902.002227  \n",
       "std      0.264851    0.201534    0.167862    0.124022    0.081558   662.747769  \n",
       "min      0.000000    0.000000    0.000000    0.000000    0.000000   118.000000  \n",
       "25%      0.000000    0.000000    0.000000    0.000000    0.000000   643.000000  \n",
       "50%      0.000000    0.000000    0.000000    0.000000    0.000000   804.000000  \n",
       "75%      0.000000    0.000000    0.000000    0.000000    0.000000   882.000000  \n",
       "max      1.000000    1.000000    1.000000    1.000000    1.000000  7444.000000  "
      ]
     },
     "execution_count": 6,
     "metadata": {},
     "output_type": "execute_result"
    }
   ],
   "source": [
    "df.describe()"
   ]
  },
  {
   "cell_type": "markdown",
   "metadata": {},
   "source": [
    "### con los datos que tenemos que preguntas se harian?\n"
   ]
  },
  {
   "cell_type": "markdown",
   "metadata": {},
   "source": [
    "-¿Existe alguna diferencia significativa entre el salario remoto y presencial?\n",
    "\n",
    "-¿Qué estados tienen el mayor número de vacantes disponibles?\n",
    "\n",
    "-¿Cuál es la habilidad más requerida en el área de data science?\n",
    "\n",
    "-¿Existe alguna relación entre el rating de las empresas y el salario?\n",
    "\n"
   ]
  },
  {
   "cell_type": "markdown",
   "metadata": {},
   "source": [
    "### Pregunta 1"
   ]
  },
  {
   "cell_type": "code",
   "execution_count": 7,
   "metadata": {},
   "outputs": [
    {
     "data": {
      "text/plain": [
       "presencial    359\n",
       "remoto         90\n",
       "Name: job_r_or_p, dtype: int64"
      ]
     },
     "execution_count": 7,
     "metadata": {},
     "output_type": "execute_result"
    }
   ],
   "source": [
    "# Obtenemos todos los trabajos que tienen una localización para trabajar remota y lo guardamos en una nueva columna\n",
    "df['job_r_or_p'] = df['job_state'].apply(lambda x: \"remoto\" if x.lower() == \"remote\" else \"presencial\")\n",
    "df['job_r_or_p'].value_counts()"
   ]
  },
  {
   "cell_type": "code",
   "execution_count": 8,
   "metadata": {},
   "outputs": [],
   "source": [
    "\"\"\"una vez teniendo la columna de trabajos remotos o presenciales realizamos una comparación\n",
    "como sabemos del previó análisis algunos titulos de los trabajos indican si es remoto,\n",
    "entonces obtenemos el tipo de trabajo y los comparamos con la columna ya creada, si los tipos son iguales\n",
    "se mantiene el valor, caso contrario significa que el tipo es remoto.\"\"\"\n",
    "df['job_r_or_p'].where(df['job_r_or_p'] == (df['Job Title'].apply(lambda x: \"remoto\" if \"Remote\" in x else \"presencial\")), \n",
    "    \"remoto\", \n",
    "    inplace=True)"
   ]
  },
  {
   "cell_type": "code",
   "execution_count": 9,
   "metadata": {},
   "outputs": [
    {
     "data": {
      "text/plain": [
       "presencial    344\n",
       "remoto        105\n",
       "Name: job_r_or_p, dtype: int64"
      ]
     },
     "execution_count": 9,
     "metadata": {},
     "output_type": "execute_result"
    }
   ],
   "source": [
    "# como podemos observar obtuvimos 15 valores nuevos para remoto\n",
    "df['job_r_or_p'].value_counts()"
   ]
  },
  {
   "cell_type": "code",
   "execution_count": 10,
   "metadata": {},
   "outputs": [],
   "source": [
    "# obtenemos una muestra de 105 trabajos presenciales y lo guardamos en una variable \n",
    "job_p = df[df['job_r_or_p'] == \"presencial\"].sample(n=105)\n",
    "\n",
    "# creamos una variable que contiene todos los trabajos remotos\n",
    "job_r = df[df['job_r_or_p'] == \"remoto\"]"
   ]
  },
  {
   "cell_type": "code",
   "execution_count": 11,
   "metadata": {},
   "outputs": [
    {
     "name": "stdout",
     "output_type": "stream",
     "text": [
      "Salario promedio por año:  100288.78 USD. Trabajo presencial\n",
      "Salario promedio por año:  121911.88 USD. Trabajo remoto\n"
     ]
    }
   ],
   "source": [
    "# obtenemos por medio de la columna salary el promedio de los salarios estimados para cada tipo de trabajo (presencial y remoto)\n",
    "print(f\"Salario promedio por año: {job_p['salary'].mean(): .2f} USD. Trabajo presencial\")\n",
    "print(f\"Salario promedio por año: {job_r['salary'].mean(): .2f} USD. Trabajo remoto\")"
   ]
  },
  {
   "cell_type": "code",
   "execution_count": 12,
   "metadata": {},
   "outputs": [],
   "source": [
    "# Creamos dos variables, las cuales utilizaremos para hacer un gráfico porcentual del promedio salarial de las dos modalidades de trabajo\n",
    "salarys = [job_p['salary'].mean(), job_r['salary'].mean()]\n",
    "types_job = [\"Trabajo Presencial\", \"Trabajo Remoto\"]"
   ]
  },
  {
   "cell_type": "code",
   "execution_count": 13,
   "metadata": {},
   "outputs": [
    {
     "data": {
      "image/png": "[encoded data removed]",
      "text/plain": [
       "<Figure size 896x504 with 1 Axes>"
      ]
     },
     "metadata": {},
     "output_type": "display_data"
    }
   ],
   "source": [
    "# Llamamos a la función que nos permite realizar un gráfico de pastel y pasamos sus parametros correspondientes\n",
    "gPie(tLabels(titleText=\"Porcentaje de las modalidades de trabajo\"), salarys, types_job)"
   ]
  },
  {
   "cell_type": "markdown",
   "metadata": {},
   "source": [
    "Gracias a la anterior grafica podemos conocer que, si existe una diferencia significativa entre la ganancia promedio por año en dolares para las dos modalidades de trabajo.\n",
    "\n",
    "Mirandose favoresida la modalidad **Remota** con un porcentaje de ganancia del **8.68%** mayor que la modalidad **Presencial**."
   ]
  },
  {
   "cell_type": "markdown",
   "metadata": {},
   "source": [
    "### Pregunta 2"
   ]
  },
  {
   "cell_type": "code",
   "execution_count": 14,
   "metadata": {},
   "outputs": [],
   "source": [
    "# creamos una serie que contiene el número total de trabajos por estados\n",
    "job_per_states = df['job_state'].value_counts()"
   ]
  },
  {
   "cell_type": "code",
   "execution_count": 15,
   "metadata": {},
   "outputs": [
    {
     "data": {
      "image/png": "[encoded data removed]",
      "text/plain": [
       "<Figure size 896x504 with 1 Axes>"
      ]
     },
     "metadata": {},
     "output_type": "display_data"
    }
   ],
   "source": [
    "gBarH(tLabels(textX=\"Total de vacantes publicadas\",\n",
    "            textY=\"Estados\",\n",
    "            titleText=\"Número de trabajos ofertados por estado en USA\"), \n",
    "    job_per_states[job_per_states.index != \"Remote\"])"
   ]
  },
  {
   "cell_type": "markdown",
   "metadata": {},
   "source": [
    "De acuerdo con los datos de la gráfica, los estados con el mayor número de vacantes publicadas son **Iowa** y **Nueva York** con un total de 131 y 50 respectivamente."
   ]
  },
  {
   "cell_type": "markdown",
   "metadata": {},
   "source": [
    "### Pregunta 3"
   ]
  },
  {
   "cell_type": "code",
   "execution_count": 16,
   "metadata": {},
   "outputs": [],
   "source": [
    "# creamos un diccionario vacío para almacenar los valores del siguiente ciclo for. \n",
    "skills_dict = {}\n",
    "# creamos un ciclo para recorrer las las columnas del dataframe y obtener sus nombres\n",
    "for x in df.loc[:,'python':'azure'].keys():\n",
    "    try:\n",
    "        # creamos una llave con el nombre de cada columna que obtenemos por cada iteración y\n",
    "        skills_dict[x] = df[df[x] == 1][x].value_counts().item() # le asignamos el valor que obtenemos de contar el total de 1 que contiene cada columna\n",
    "    except:\n",
    "        # en caso de que la columna no contenga ningun 1 salta la excepción y le asigamos manualmente un 0\n",
    "        skills_dict[x] = np.nan\n",
    "\n",
    "# convertimos el diccionario que obtuvimos en una serie de pandas para un manejo más optimo\n",
    "skills_count = pd.Series(skills_dict).dropna().astype(int)"
   ]
  },
  {
   "cell_type": "code",
   "execution_count": 17,
   "metadata": {},
   "outputs": [
    {
     "data": {
      "image/png": "[encoded data removed]",
      "text/plain": [
       "<Figure size 896x504 with 1 Axes>"
      ]
     },
     "metadata": {},
     "output_type": "display_data"
    }
   ],
   "source": [
    "gBar(tLabels(textX=\"Habilidades\",\n",
    "            textY=\"Demanda total\",\n",
    "            titleText=\"Habilidades más demandadas en el área de Data Science\"),\n",
    "    skills_count)"
   ]
  },
  {
   "cell_type": "markdown",
   "metadata": {},
   "source": [
    "Como podemos observar de la grafica **Python** es una de las habilidades más demandadas en el área de data science y sus ramas y la que se posiciona en primer lugar actualmente."
   ]
  },
  {
   "cell_type": "markdown",
   "metadata": {},
   "source": [
    "### Pregunta 4"
   ]
  },
  {
   "cell_type": "code",
   "execution_count": 18,
   "metadata": {},
   "outputs": [],
   "source": [
    "# obtenemos los indices de todos los valores nulos en la columna de rating y los asignamos a una variable \n",
    "drop_i = df[df.Rating.isna()].index\n",
    "\n",
    "# utilizando la función drop le pasamos la lista de indices que obtuvimos y eliminamos esos registros. \n",
    "# Creamos un nuevo dataframe con los datos obtenidos\n",
    "df_ratin = df.drop(drop_i)"
   ]
  },
  {
   "cell_type": "code",
   "execution_count": 19,
   "metadata": {},
   "outputs": [
    {
     "name": "stdout",
     "output_type": "stream",
     "text": [
      "La correlación de pearson entre las columnas rating y salary es: -0.17\n"
     ]
    }
   ],
   "source": [
    "print(f\"La correlación de pearson entre las columnas rating y salary es: {df_ratin.Rating.corr(df_ratin.salary, method='pearson'): .2f}\")"
   ]
  },
  {
   "cell_type": "code",
   "execution_count": 20,
   "metadata": {},
   "outputs": [
    {
     "data": {
      "image/png": "[encoded data removed]",
      "text/plain": [
       "<Figure size 896x504 with 1 Axes>"
      ]
     },
     "metadata": {},
     "output_type": "display_data"
    }
   ],
   "source": [
    "# Realizamos un gráfico de dispersión con las variables de rating y salario, y le gráficamos su regresión lineal \n",
    "scatterReg(tLabels(textX=\"Rating\", \n",
    "                    textY=\"Salario (USD)\", \n",
    "                    titleText=\"Relación entre el Salario y Rating\"), \n",
    "            dataframe=df_ratin)"
   ]
  },
  {
   "cell_type": "markdown",
   "metadata": {},
   "source": [
    "Como podemos observar del calculo obtenido de **-0.17** y el diagrama de dispersión, existe una ligera anticorrelación entre el salario por año y el rating, esto es, a mayor rating, menor salario."
   ]
  }
 ],
 "metadata": {
  "kernelspec": {
   "display_name": "Python 3.9.12 ('base')",
   "language": "python",
   "name": "python3"
  },
  "language_info": {
   "codemirror_mode": {
    "name": "ipython",
    "version": 3
   },
   "file_extension": ".py",
   "mimetype": "text/x-python",
   "name": "python",
   "nbconvert_exporter": "python",
   "pygments_lexer": "ipython3",
   "version": "3.9.12"
  },
  "orig_nbformat": 4,
  "vscode": {
   "interpreter": {
    "hash": "ad2bdc8ecc057115af97d19610ffacc2b4e99fae6737bb82f5d7fb13d2f2c186"
   }
  }
 },
 "nbformat": 4,
 "nbformat_minor": 2
}
